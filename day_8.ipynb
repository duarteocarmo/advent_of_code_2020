{
 "cells": [
  {
   "cell_type": "code",
   "execution_count": 146,
   "metadata": {},
   "outputs": [],
   "source": [
    "with open(\"inputs/day_8.txt\") as f:\n",
    "    content = f.readlines()\n",
    "content = [x.strip() for x in content] "
   ]
  },
  {
   "cell_type": "code",
   "execution_count": 147,
   "metadata": {},
   "outputs": [
    {
     "name": "stdout",
     "output_type": "stream",
     "text": [
      "Acc: (False, 1137)\n"
     ]
    }
   ],
   "source": [
    "def terminates(content):\n",
    "    parsed_indexes = []\n",
    "    accumulator = 0\n",
    "    index = 0\n",
    "    try:\n",
    "        while index not in parsed_indexes:\n",
    "            operation = content[index].split(\" \")[0]\n",
    "            value = int(content[index].split(\" \")[1])\n",
    "            if operation == \"nop\":\n",
    "                parsed_indexes.append(index)\n",
    "                index += 1\n",
    "            if operation == \"acc\":\n",
    "                parsed_indexes.append(index)\n",
    "                accumulator += value\n",
    "                index += 1\n",
    "            if operation == \"jmp\":\n",
    "                parsed_indexes.append(index)\n",
    "                index += value    \n",
    "\n",
    "        return False, accumulator\n",
    "    except Exception as e:\n",
    "        return True, accumulator\n",
    "\n",
    "print(\"Acc:\", terminates(content))"
   ]
  },
  {
   "cell_type": "code",
   "execution_count": 148,
   "metadata": {},
   "outputs": [
    {
     "name": "stdout",
     "output_type": "stream",
     "text": [
      "replace jmp in index 266 gives terminate True with accumulator 1125\n"
     ]
    }
   ],
   "source": [
    "for index, line in enumerate(content):\n",
    "    status = terminates(content)\n",
    "    instruction = line.split(\" \")[0]\n",
    "    if instruction == \"nop\":\n",
    "        new_content = content[:]\n",
    "        new_content[index] = content[index].replace(\"nop\", \"jmp\")\n",
    "        terminate_, accumulator = terminates(new_content)\n",
    "        if terminate_ is True:\n",
    "            print(f\"replace nop in index {index} gives terminate {terminate_} with accumulator {accumulator}\")\n",
    "            break\n",
    "  \n",
    "    if instruction == \"jmp\":\n",
    "        new_content = content[:]\n",
    "        new_content[index] = content[index].replace(\"jmp\", \"nop\") \n",
    "        terminate_, accumulator = terminates(new_content)\n",
    "        if terminate_ is True:\n",
    "            print(f\"replace jmp in index {index} gives terminate {terminate_} with accumulator {accumulator}\")\n",
    "            break\n",
    "\n",
    "    \n"
   ]
  },
  {
   "cell_type": "code",
   "execution_count": null,
   "metadata": {},
   "outputs": [],
   "source": []
  },
  {
   "cell_type": "code",
   "execution_count": null,
   "metadata": {},
   "outputs": [],
   "source": []
  }
 ],
 "metadata": {
  "kernelspec": {
   "display_name": "Python 3",
   "language": "python",
   "name": "python3"
  },
  "language_info": {
   "codemirror_mode": {
    "name": "ipython",
    "version": 3
   },
   "file_extension": ".py",
   "mimetype": "text/x-python",
   "name": "python",
   "nbconvert_exporter": "python",
   "pygments_lexer": "ipython3",
   "version": "3.8.5"
  }
 },
 "nbformat": 4,
 "nbformat_minor": 4
}
