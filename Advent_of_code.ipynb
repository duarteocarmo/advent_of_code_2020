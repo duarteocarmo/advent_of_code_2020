{
 "cells": [
  {
   "cell_type": "markdown",
   "metadata": {},
   "source": [
    "# Advent of Code 2020"
   ]
  },
  {
   "cell_type": "markdown",
   "metadata": {},
   "source": [
    "Lol look at me hacking away"
   ]
  },
  {
   "cell_type": "markdown",
   "metadata": {},
   "source": [
    "## Day 1 (1)"
   ]
  },
  {
   "cell_type": "code",
   "execution_count": 29,
   "metadata": {},
   "outputs": [],
   "source": [
    "file = open(\"inputs/day_1.txt\", 'r')\n",
    "number_list = [int(line.strip(\"\\n\")) for line in file.readlines()]"
   ]
  },
  {
   "cell_type": "code",
   "execution_count": 30,
   "metadata": {},
   "outputs": [
    {
     "name": "stdout",
     "output_type": "stream",
     "text": [
      "177 1843\n",
      "Result: 326211\n",
      "1843 177\n",
      "Result: 326211\n"
     ]
    }
   ],
   "source": [
    "for index_a, a in enumerate(number_list):\n",
    "    for index_b, b in enumerate(number_list):\n",
    "        if index_b != index_a and a + b == 2020:\n",
    "            print(a, b)\n",
    "            print(\"Result:\", a * b )\n",
    "            break"
   ]
  },
  {
   "cell_type": "markdown",
   "metadata": {},
   "source": [
    "## Day 1 (2)"
   ]
  },
  {
   "cell_type": "code",
   "execution_count": 31,
   "metadata": {},
   "outputs": [
    {
     "name": "stdout",
     "output_type": "stream",
     "text": [
      "1297 533 190\n",
      "Result: 131347190\n",
      "1297 190 533\n",
      "Result: 131347190\n",
      "533 1297 190\n",
      "Result: 131347190\n",
      "533 190 1297\n",
      "Result: 131347190\n",
      "190 1297 533\n",
      "Result: 131347190\n",
      "190 533 1297\n",
      "Result: 131347190\n"
     ]
    }
   ],
   "source": [
    "for index_a, a in enumerate(number_list):\n",
    "    for index_b, b in enumerate(number_list):\n",
    "        other_indexes = [index_a, index_b]\n",
    "        for index_c, c in enumerate(number_list):\n",
    "            if index_c not in other_indexes and a + b + c == 2020:\n",
    "                print(a, b, c)\n",
    "                print(\"Result:\", a * b * c)\n",
    "                break"
   ]
  },
  {
   "cell_type": "markdown",
   "metadata": {},
   "source": [
    "## Day 2 (1)"
   ]
  },
  {
   "cell_type": "code",
   "execution_count": 24,
   "metadata": {},
   "outputs": [
    {
     "data": {
      "text/plain": [
       "False"
      ]
     },
     "execution_count": 24,
     "metadata": {},
     "output_type": "execute_result"
    }
   ],
   "source": [
    "pass_string = \"1-7 q: qqqqxvqrkbqqztlqlzq\"\n",
    "\n",
    "def pass_is_valid(pass_string):\n",
    "    minimum = int(pass_string.split(\" \")[0].split(\"-\")[0])\n",
    "    maximum = int(pass_string.split(\" \")[0].split(\"-\")[1])\n",
    "    letter = pass_string.split(\" \")[1][0]\n",
    "    password = pass_string.split(\" \")[2]\n",
    "    if minimum <= password.count(letter) <= maximum:\n",
    "        return True\n",
    "    else:\n",
    "        return False\n",
    "    #print(minimum, maximum, letter, password)\n",
    "    \n",
    "pass_is_valid(pass_string)"
   ]
  },
  {
   "cell_type": "code",
   "execution_count": 25,
   "metadata": {},
   "outputs": [],
   "source": [
    "file = open(\"inputs/day_2.txt\", 'r')\n",
    "pass_list = [line.strip(\"\\n\") for line in file.readlines()]"
   ]
  },
  {
   "cell_type": "code",
   "execution_count": 26,
   "metadata": {},
   "outputs": [
    {
     "name": "stdout",
     "output_type": "stream",
     "text": [
      "500\n"
     ]
    }
   ],
   "source": [
    "valid = 0\n",
    "for pass_string in pass_list:\n",
    "    if pass_is_valid(pass_string) is True:\n",
    "        valid += 1\n",
    "print(valid)"
   ]
  },
  {
   "cell_type": "markdown",
   "metadata": {},
   "source": [
    "## Day 2 (2)"
   ]
  },
  {
   "cell_type": "markdown",
   "metadata": {},
   "source": [
    "\n",
    "    1-3 a: abcde is valid: position 1 contains a and position 3 does not.\n",
    "    1-3 b: cdefg is invalid: neither position 1 nor position 3 contains b.\n",
    "    2-9 c: ccccccccc is invalid: both position 2 and position 9 contain c.\n"
   ]
  },
  {
   "cell_type": "code",
   "execution_count": 31,
   "metadata": {},
   "outputs": [],
   "source": [
    "def pass_is_valid(pass_string):\n",
    "    first_index = int(pass_string.split(\" \")[0].split(\"-\")[0]) - 1\n",
    "    second_index = int(pass_string.split(\" \")[0].split(\"-\")[1]) - 1\n",
    "    letter = pass_string.split(\" \")[1][0]\n",
    "    password = pass_string.split(\" \")[2]\n",
    "    if password[first_index] == letter and password[second_index] == letter:\n",
    "        return False\n",
    "    if password[first_index] == letter:\n",
    "        return True\n",
    "    if password[second_index] == letter:\n",
    "        return True\n",
    "    else:\n",
    "        return False"
   ]
  },
  {
   "cell_type": "code",
   "execution_count": 32,
   "metadata": {},
   "outputs": [],
   "source": [
    "file = open(\"inputs/day_2.txt\", 'r')\n",
    "pass_list = [line.strip(\"\\n\") for line in file.readlines()]"
   ]
  },
  {
   "cell_type": "code",
   "execution_count": 33,
   "metadata": {},
   "outputs": [
    {
     "name": "stdout",
     "output_type": "stream",
     "text": [
      "313\n"
     ]
    }
   ],
   "source": [
    "valid = 0\n",
    "for pass_string in pass_list:\n",
    "    if pass_is_valid(pass_string) is True:\n",
    "        valid += 1\n",
    "print(valid)"
   ]
  },
  {
   "cell_type": "markdown",
   "metadata": {},
   "source": [
    "## Day 3 (1)"
   ]
  },
  {
   "cell_type": "code",
   "execution_count": 69,
   "metadata": {},
   "outputs": [],
   "source": [
    "import numpy as np\n",
    "multiplier = 500\n",
    "\n",
    "master = []\n",
    "file = open(\"inputs/day_3.txt\", 'r')\n",
    "for line in file.readlines():\n",
    "    line_string = line.strip(\"\\n\") * multiplier\n",
    "    line_list = [1 if e == \"#\" else 0 for e in line_string]\n",
    "    master.append(line_list)\n",
    "\n",
    "master = np.array(master)"
   ]
  },
  {
   "cell_type": "code",
   "execution_count": 70,
   "metadata": {},
   "outputs": [],
   "source": [
    "max_rows = np.shape(master)[0]\n",
    "max_cols = np.shape(master)[1]\n",
    "\n",
    "n_col = 0\n",
    "n_row = 0\n",
    "\n",
    "trees = 0\n",
    "\n",
    "while n_row < max_rows:\n",
    "    if master[n_row, n_col] == 1:\n",
    "        trees += 1\n",
    "    n_col += 3\n",
    "    n_row += 1"
   ]
  },
  {
   "cell_type": "code",
   "execution_count": 71,
   "metadata": {},
   "outputs": [
    {
     "data": {
      "text/plain": [
       "159"
      ]
     },
     "execution_count": 71,
     "metadata": {},
     "output_type": "execute_result"
    }
   ],
   "source": [
    "trees"
   ]
  },
  {
   "cell_type": "markdown",
   "metadata": {},
   "source": [
    "## Day 3 (2)"
   ]
  },
  {
   "cell_type": "code",
   "execution_count": 77,
   "metadata": {},
   "outputs": [],
   "source": [
    "positions = [(1, 1), (3, 1), (5, 1), (7, 1), (1, 2)]\n",
    "tree_list  = []\n",
    "for row_step, col_step in positions:\n",
    "    max_rows = np.shape(master)[0]\n",
    "    max_cols = np.shape(master)[1]\n",
    "\n",
    "    n_col = 0\n",
    "    n_row = 0\n",
    "\n",
    "    trees = 0\n",
    "\n",
    "    while n_row < max_rows:\n",
    "        if master[n_row, n_col] == 1:\n",
    "            trees += 1\n",
    "        n_col += row_step\n",
    "        n_row += col_step\n",
    "    tree_list.append(trees)"
   ]
  },
  {
   "cell_type": "code",
   "execution_count": 78,
   "metadata": {},
   "outputs": [
    {
     "data": {
      "text/plain": [
       "[86, 159, 97, 88, 55]"
      ]
     },
     "execution_count": 78,
     "metadata": {},
     "output_type": "execute_result"
    }
   ],
   "source": [
    "tree_list"
   ]
  },
  {
   "cell_type": "code",
   "execution_count": null,
   "metadata": {},
   "outputs": [],
   "source": []
  }
 ],
 "metadata": {
  "kernelspec": {
   "display_name": "Python 3",
   "language": "python",
   "name": "python3"
  },
  "language_info": {
   "codemirror_mode": {
    "name": "ipython",
    "version": 3
   },
   "file_extension": ".py",
   "mimetype": "text/x-python",
   "name": "python",
   "nbconvert_exporter": "python",
   "pygments_lexer": "ipython3",
   "version": "3.8.5"
  }
 },
 "nbformat": 4,
 "nbformat_minor": 4
}
