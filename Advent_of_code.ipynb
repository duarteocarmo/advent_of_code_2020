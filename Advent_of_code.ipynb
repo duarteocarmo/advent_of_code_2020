{
 "cells": [
  {
   "cell_type": "markdown",
   "metadata": {},
   "source": [
    "# Advent of Code 2020"
   ]
  },
  {
   "cell_type": "markdown",
   "metadata": {},
   "source": [
    "Lol look at me hacking away"
   ]
  },
  {
   "cell_type": "markdown",
   "metadata": {},
   "source": [
    "## Day 1 (1)"
   ]
  },
  {
   "cell_type": "code",
   "execution_count": 29,
   "metadata": {},
   "outputs": [],
   "source": [
    "file = open(\"inputs/day_1.txt\", 'r')\n",
    "number_list = [int(line.strip(\"\\n\")) for line in file.readlines()]"
   ]
  },
  {
   "cell_type": "code",
   "execution_count": 30,
   "metadata": {},
   "outputs": [
    {
     "name": "stdout",
     "output_type": "stream",
     "text": [
      "177 1843\n",
      "Result: 326211\n",
      "1843 177\n",
      "Result: 326211\n"
     ]
    }
   ],
   "source": [
    "for index_a, a in enumerate(number_list):\n",
    "    for index_b, b in enumerate(number_list):\n",
    "        if index_b != index_a and a + b == 2020:\n",
    "            print(a, b)\n",
    "            print(\"Result:\", a * b )\n",
    "            break"
   ]
  },
  {
   "cell_type": "markdown",
   "metadata": {},
   "source": [
    "## Day 1 (2)"
   ]
  },
  {
   "cell_type": "code",
   "execution_count": 31,
   "metadata": {},
   "outputs": [
    {
     "name": "stdout",
     "output_type": "stream",
     "text": [
      "1297 533 190\n",
      "Result: 131347190\n",
      "1297 190 533\n",
      "Result: 131347190\n",
      "533 1297 190\n",
      "Result: 131347190\n",
      "533 190 1297\n",
      "Result: 131347190\n",
      "190 1297 533\n",
      "Result: 131347190\n",
      "190 533 1297\n",
      "Result: 131347190\n"
     ]
    }
   ],
   "source": [
    "for index_a, a in enumerate(number_list):\n",
    "    for index_b, b in enumerate(number_list):\n",
    "        other_indexes = [index_a, index_b]\n",
    "        for index_c, c in enumerate(number_list):\n",
    "            if index_c not in other_indexes and a + b + c == 2020:\n",
    "                print(a, b, c)\n",
    "                print(\"Result:\", a * b * c)\n",
    "                break"
   ]
  }
 ],
 "metadata": {
  "kernelspec": {
   "display_name": "Python 3",
   "language": "python",
   "name": "python3"
  },
  "language_info": {
   "codemirror_mode": {
    "name": "ipython",
    "version": 3
   },
   "file_extension": ".py",
   "mimetype": "text/x-python",
   "name": "python",
   "nbconvert_exporter": "python",
   "pygments_lexer": "ipython3",
   "version": "3.8.5"
  }
 },
 "nbformat": 4,
 "nbformat_minor": 4
}
